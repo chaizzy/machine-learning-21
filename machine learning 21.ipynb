{
 "cells": [
  {
   "cell_type": "code",
   "execution_count": 1,
   "id": "a2c89a50-8afd-4abc-9ac4-907db7cbc96c",
   "metadata": {},
   "outputs": [],
   "source": [
    "import pandas as pd\n",
    "import numpy as np\n",
    "import matplotlib.pyplot as plt\n",
    "import seaborn as sns"
   ]
  },
  {
   "cell_type": "code",
   "execution_count": 2,
   "id": "36d753d1-474b-4e7e-9457-8bc154756b81",
   "metadata": {},
   "outputs": [],
   "source": [
    "df = pd.read_csv('Heart.csv')"
   ]
  },
  {
   "cell_type": "code",
   "execution_count": 3,
   "id": "ea80ca88-3213-41ff-97d9-7841116b26bf",
   "metadata": {},
   "outputs": [
    {
     "data": {
      "text/html": [
       "<div>\n",
       "<style scoped>\n",
       "    .dataframe tbody tr th:only-of-type {\n",
       "        vertical-align: middle;\n",
       "    }\n",
       "\n",
       "    .dataframe tbody tr th {\n",
       "        vertical-align: top;\n",
       "    }\n",
       "\n",
       "    .dataframe thead th {\n",
       "        text-align: right;\n",
       "    }\n",
       "</style>\n",
       "<table border=\"1\" class=\"dataframe\">\n",
       "  <thead>\n",
       "    <tr style=\"text-align: right;\">\n",
       "      <th></th>\n",
       "      <th>age</th>\n",
       "      <th>sex</th>\n",
       "      <th>cp</th>\n",
       "      <th>trestbps</th>\n",
       "      <th>chol</th>\n",
       "      <th>fbs</th>\n",
       "      <th>restecg</th>\n",
       "      <th>thalach</th>\n",
       "      <th>exang</th>\n",
       "      <th>oldpeak</th>\n",
       "      <th>slope</th>\n",
       "      <th>ca</th>\n",
       "      <th>thal</th>\n",
       "      <th>target</th>\n",
       "    </tr>\n",
       "  </thead>\n",
       "  <tbody>\n",
       "    <tr>\n",
       "      <th>0</th>\n",
       "      <td>63</td>\n",
       "      <td>1</td>\n",
       "      <td>3</td>\n",
       "      <td>145</td>\n",
       "      <td>233</td>\n",
       "      <td>1</td>\n",
       "      <td>0</td>\n",
       "      <td>150</td>\n",
       "      <td>0</td>\n",
       "      <td>2.3</td>\n",
       "      <td>0</td>\n",
       "      <td>0</td>\n",
       "      <td>1</td>\n",
       "      <td>1</td>\n",
       "    </tr>\n",
       "    <tr>\n",
       "      <th>1</th>\n",
       "      <td>37</td>\n",
       "      <td>1</td>\n",
       "      <td>2</td>\n",
       "      <td>130</td>\n",
       "      <td>250</td>\n",
       "      <td>0</td>\n",
       "      <td>1</td>\n",
       "      <td>187</td>\n",
       "      <td>0</td>\n",
       "      <td>3.5</td>\n",
       "      <td>0</td>\n",
       "      <td>0</td>\n",
       "      <td>2</td>\n",
       "      <td>1</td>\n",
       "    </tr>\n",
       "    <tr>\n",
       "      <th>2</th>\n",
       "      <td>41</td>\n",
       "      <td>0</td>\n",
       "      <td>1</td>\n",
       "      <td>130</td>\n",
       "      <td>204</td>\n",
       "      <td>0</td>\n",
       "      <td>0</td>\n",
       "      <td>172</td>\n",
       "      <td>0</td>\n",
       "      <td>1.4</td>\n",
       "      <td>2</td>\n",
       "      <td>0</td>\n",
       "      <td>2</td>\n",
       "      <td>1</td>\n",
       "    </tr>\n",
       "    <tr>\n",
       "      <th>3</th>\n",
       "      <td>56</td>\n",
       "      <td>1</td>\n",
       "      <td>1</td>\n",
       "      <td>120</td>\n",
       "      <td>236</td>\n",
       "      <td>0</td>\n",
       "      <td>1</td>\n",
       "      <td>178</td>\n",
       "      <td>0</td>\n",
       "      <td>0.8</td>\n",
       "      <td>2</td>\n",
       "      <td>0</td>\n",
       "      <td>2</td>\n",
       "      <td>1</td>\n",
       "    </tr>\n",
       "    <tr>\n",
       "      <th>4</th>\n",
       "      <td>57</td>\n",
       "      <td>0</td>\n",
       "      <td>0</td>\n",
       "      <td>120</td>\n",
       "      <td>354</td>\n",
       "      <td>0</td>\n",
       "      <td>1</td>\n",
       "      <td>163</td>\n",
       "      <td>1</td>\n",
       "      <td>0.6</td>\n",
       "      <td>2</td>\n",
       "      <td>0</td>\n",
       "      <td>2</td>\n",
       "      <td>1</td>\n",
       "    </tr>\n",
       "  </tbody>\n",
       "</table>\n",
       "</div>"
      ],
      "text/plain": [
       "   age  sex  cp  trestbps  chol  fbs  restecg  thalach  exang  oldpeak  slope  \\\n",
       "0   63    1   3       145   233    1        0      150      0      2.3      0   \n",
       "1   37    1   2       130   250    0        1      187      0      3.5      0   \n",
       "2   41    0   1       130   204    0        0      172      0      1.4      2   \n",
       "3   56    1   1       120   236    0        1      178      0      0.8      2   \n",
       "4   57    0   0       120   354    0        1      163      1      0.6      2   \n",
       "\n",
       "   ca  thal  target  \n",
       "0   0     1       1  \n",
       "1   0     2       1  \n",
       "2   0     2       1  \n",
       "3   0     2       1  \n",
       "4   0     2       1  "
      ]
     },
     "execution_count": 3,
     "metadata": {},
     "output_type": "execute_result"
    }
   ],
   "source": [
    "df.head()"
   ]
  },
  {
   "cell_type": "code",
   "execution_count": 4,
   "id": "91f71441-ab4b-43af-8ec7-ec1a55897089",
   "metadata": {},
   "outputs": [
    {
     "data": {
      "text/plain": [
       "1    165\n",
       "0    138\n",
       "Name: target, dtype: int64"
      ]
     },
     "execution_count": 4,
     "metadata": {},
     "output_type": "execute_result"
    }
   ],
   "source": [
    "df['target'].value_counts()"
   ]
  },
  {
   "cell_type": "code",
   "execution_count": 5,
   "id": "0d8ec9ce-c858-4919-8180-7b6097ac777e",
   "metadata": {},
   "outputs": [
    {
     "name": "stdout",
     "output_type": "stream",
     "text": [
      "<class 'pandas.core.frame.DataFrame'>\n",
      "RangeIndex: 303 entries, 0 to 302\n",
      "Data columns (total 14 columns):\n",
      " #   Column    Non-Null Count  Dtype  \n",
      "---  ------    --------------  -----  \n",
      " 0   age       303 non-null    int64  \n",
      " 1   sex       303 non-null    int64  \n",
      " 2   cp        303 non-null    int64  \n",
      " 3   trestbps  303 non-null    int64  \n",
      " 4   chol      303 non-null    int64  \n",
      " 5   fbs       303 non-null    int64  \n",
      " 6   restecg   303 non-null    int64  \n",
      " 7   thalach   303 non-null    int64  \n",
      " 8   exang     303 non-null    int64  \n",
      " 9   oldpeak   303 non-null    float64\n",
      " 10  slope     303 non-null    int64  \n",
      " 11  ca        303 non-null    int64  \n",
      " 12  thal      303 non-null    int64  \n",
      " 13  target    303 non-null    int64  \n",
      "dtypes: float64(1), int64(13)\n",
      "memory usage: 33.3 KB\n"
     ]
    }
   ],
   "source": [
    "df.info()"
   ]
  },
  {
   "cell_type": "code",
   "execution_count": 6,
   "id": "64c52a48-d998-4f46-93fa-201d1e57dc25",
   "metadata": {},
   "outputs": [
    {
     "data": {
      "text/plain": [
       "age         0\n",
       "sex         0\n",
       "cp          0\n",
       "trestbps    0\n",
       "chol        0\n",
       "fbs         0\n",
       "restecg     0\n",
       "thalach     0\n",
       "exang       0\n",
       "oldpeak     0\n",
       "slope       0\n",
       "ca          0\n",
       "thal        0\n",
       "target      0\n",
       "dtype: int64"
      ]
     },
     "execution_count": 6,
     "metadata": {},
     "output_type": "execute_result"
    }
   ],
   "source": [
    "df.isnull().sum()"
   ]
  },
  {
   "cell_type": "code",
   "execution_count": 7,
   "id": "ab2da057-9858-43a0-98e9-a5b381dedbc8",
   "metadata": {},
   "outputs": [],
   "source": [
    "# fig = plt.figure(figsize=(10,15))\n",
    "# sns.heatmap(df.corr(),annot=True)"
   ]
  },
  {
   "cell_type": "code",
   "execution_count": 8,
   "id": "24dfdcc8-725b-4077-b246-f26c32420ad5",
   "metadata": {},
   "outputs": [
    {
     "data": {
      "text/plain": [
       "<AxesSubplot: >"
      ]
     },
     "execution_count": 8,
     "metadata": {},
     "output_type": "execute_result"
    },
    {
     "data": {
      "image/png": "[encoded data removed]",
      "text/plain": [
       "<Figure size 1000x1500 with 1 Axes>"
      ]
     },
     "metadata": {},
     "output_type": "display_data"
    }
   ],
   "source": [
    "fig = plt.figure(figsize=(10,15))\n",
    "sns.boxplot(data=df,whis=0.5,fliersize=3)"
   ]
  },
  {
   "cell_type": "code",
   "execution_count": 9,
   "id": "2aaa50a7-6f92-46c3-b6f3-3bda0c9162ea",
   "metadata": {},
   "outputs": [],
   "source": [
    "# Independent and dependent \n",
    "x = df.iloc[:,:-1]\n",
    "y = df[\"target\"]"
   ]
  },
  {
   "cell_type": "code",
   "execution_count": 10,
   "id": "8faa5792-32b1-44cf-b957-7fe21a63e52f",
   "metadata": {},
   "outputs": [],
   "source": [
    "from sklearn.model_selection import train_test_split"
   ]
  },
  {
   "cell_type": "code",
   "execution_count": 11,
   "id": "fb4dacad-b1bf-4361-865e-7f5c3cb8b520",
   "metadata": {},
   "outputs": [],
   "source": [
    "x_train,x_test,y_train,y_test=train_test_split(x,y,test_size=0.30,random_state=42)"
   ]
  },
  {
   "cell_type": "code",
   "execution_count": 12,
   "id": "3683d707-71df-49dc-a216-6878342f2399",
   "metadata": {},
   "outputs": [
    {
     "data": {
      "text/html": [
       "<div>\n",
       "<style scoped>\n",
       "    .dataframe tbody tr th:only-of-type {\n",
       "        vertical-align: middle;\n",
       "    }\n",
       "\n",
       "    .dataframe tbody tr th {\n",
       "        vertical-align: top;\n",
       "    }\n",
       "\n",
       "    .dataframe thead th {\n",
       "        text-align: right;\n",
       "    }\n",
       "</style>\n",
       "<table border=\"1\" class=\"dataframe\">\n",
       "  <thead>\n",
       "    <tr style=\"text-align: right;\">\n",
       "      <th></th>\n",
       "      <th>age</th>\n",
       "      <th>sex</th>\n",
       "      <th>cp</th>\n",
       "      <th>trestbps</th>\n",
       "      <th>chol</th>\n",
       "      <th>fbs</th>\n",
       "      <th>restecg</th>\n",
       "      <th>thalach</th>\n",
       "      <th>exang</th>\n",
       "      <th>oldpeak</th>\n",
       "      <th>slope</th>\n",
       "      <th>ca</th>\n",
       "      <th>thal</th>\n",
       "    </tr>\n",
       "  </thead>\n",
       "  <tbody>\n",
       "    <tr>\n",
       "      <th>age</th>\n",
       "      <td>1.000000</td>\n",
       "      <td>-0.076955</td>\n",
       "      <td>-0.127758</td>\n",
       "      <td>0.288078</td>\n",
       "      <td>0.247557</td>\n",
       "      <td>0.121209</td>\n",
       "      <td>-0.165419</td>\n",
       "      <td>-0.404615</td>\n",
       "      <td>0.161146</td>\n",
       "      <td>0.204483</td>\n",
       "      <td>-0.151790</td>\n",
       "      <td>0.330450</td>\n",
       "      <td>0.081448</td>\n",
       "    </tr>\n",
       "    <tr>\n",
       "      <th>sex</th>\n",
       "      <td>-0.076955</td>\n",
       "      <td>1.000000</td>\n",
       "      <td>-0.057577</td>\n",
       "      <td>-0.110884</td>\n",
       "      <td>-0.212008</td>\n",
       "      <td>0.034951</td>\n",
       "      <td>-0.074695</td>\n",
       "      <td>-0.038822</td>\n",
       "      <td>0.151385</td>\n",
       "      <td>0.176680</td>\n",
       "      <td>-0.066913</td>\n",
       "      <td>0.169985</td>\n",
       "      <td>0.225652</td>\n",
       "    </tr>\n",
       "    <tr>\n",
       "      <th>cp</th>\n",
       "      <td>-0.127758</td>\n",
       "      <td>-0.057577</td>\n",
       "      <td>1.000000</td>\n",
       "      <td>0.025663</td>\n",
       "      <td>-0.072715</td>\n",
       "      <td>0.186225</td>\n",
       "      <td>-0.031449</td>\n",
       "      <td>0.317051</td>\n",
       "      <td>-0.390310</td>\n",
       "      <td>-0.165942</td>\n",
       "      <td>0.124755</td>\n",
       "      <td>-0.167850</td>\n",
       "      <td>-0.199712</td>\n",
       "    </tr>\n",
       "    <tr>\n",
       "      <th>trestbps</th>\n",
       "      <td>0.288078</td>\n",
       "      <td>-0.110884</td>\n",
       "      <td>0.025663</td>\n",
       "      <td>1.000000</td>\n",
       "      <td>0.146431</td>\n",
       "      <td>0.226035</td>\n",
       "      <td>-0.065109</td>\n",
       "      <td>-0.032537</td>\n",
       "      <td>0.071371</td>\n",
       "      <td>0.103757</td>\n",
       "      <td>-0.033806</td>\n",
       "      <td>0.058233</td>\n",
       "      <td>0.028320</td>\n",
       "    </tr>\n",
       "    <tr>\n",
       "      <th>chol</th>\n",
       "      <td>0.247557</td>\n",
       "      <td>-0.212008</td>\n",
       "      <td>-0.072715</td>\n",
       "      <td>0.146431</td>\n",
       "      <td>1.000000</td>\n",
       "      <td>0.051839</td>\n",
       "      <td>-0.118689</td>\n",
       "      <td>0.009340</td>\n",
       "      <td>0.039480</td>\n",
       "      <td>0.122876</td>\n",
       "      <td>0.014369</td>\n",
       "      <td>0.057201</td>\n",
       "      <td>0.060382</td>\n",
       "    </tr>\n",
       "    <tr>\n",
       "      <th>fbs</th>\n",
       "      <td>0.121209</td>\n",
       "      <td>0.034951</td>\n",
       "      <td>0.186225</td>\n",
       "      <td>0.226035</td>\n",
       "      <td>0.051839</td>\n",
       "      <td>1.000000</td>\n",
       "      <td>-0.098113</td>\n",
       "      <td>-0.013058</td>\n",
       "      <td>-0.020018</td>\n",
       "      <td>-0.002365</td>\n",
       "      <td>-0.074125</td>\n",
       "      <td>0.084714</td>\n",
       "      <td>-0.042658</td>\n",
       "    </tr>\n",
       "    <tr>\n",
       "      <th>restecg</th>\n",
       "      <td>-0.165419</td>\n",
       "      <td>-0.074695</td>\n",
       "      <td>-0.031449</td>\n",
       "      <td>-0.065109</td>\n",
       "      <td>-0.118689</td>\n",
       "      <td>-0.098113</td>\n",
       "      <td>1.000000</td>\n",
       "      <td>0.019833</td>\n",
       "      <td>0.002176</td>\n",
       "      <td>0.012953</td>\n",
       "      <td>0.018522</td>\n",
       "      <td>-0.082971</td>\n",
       "      <td>0.038891</td>\n",
       "    </tr>\n",
       "    <tr>\n",
       "      <th>thalach</th>\n",
       "      <td>-0.404615</td>\n",
       "      <td>-0.038822</td>\n",
       "      <td>0.317051</td>\n",
       "      <td>-0.032537</td>\n",
       "      <td>0.009340</td>\n",
       "      <td>-0.013058</td>\n",
       "      <td>0.019833</td>\n",
       "      <td>1.000000</td>\n",
       "      <td>-0.403342</td>\n",
       "      <td>-0.332174</td>\n",
       "      <td>0.323170</td>\n",
       "      <td>-0.260242</td>\n",
       "      <td>-0.110076</td>\n",
       "    </tr>\n",
       "    <tr>\n",
       "      <th>exang</th>\n",
       "      <td>0.161146</td>\n",
       "      <td>0.151385</td>\n",
       "      <td>-0.390310</td>\n",
       "      <td>0.071371</td>\n",
       "      <td>0.039480</td>\n",
       "      <td>-0.020018</td>\n",
       "      <td>0.002176</td>\n",
       "      <td>-0.403342</td>\n",
       "      <td>1.000000</td>\n",
       "      <td>0.326970</td>\n",
       "      <td>-0.284329</td>\n",
       "      <td>0.110556</td>\n",
       "      <td>0.236343</td>\n",
       "    </tr>\n",
       "    <tr>\n",
       "      <th>oldpeak</th>\n",
       "      <td>0.204483</td>\n",
       "      <td>0.176680</td>\n",
       "      <td>-0.165942</td>\n",
       "      <td>0.103757</td>\n",
       "      <td>0.122876</td>\n",
       "      <td>-0.002365</td>\n",
       "      <td>0.012953</td>\n",
       "      <td>-0.332174</td>\n",
       "      <td>0.326970</td>\n",
       "      <td>1.000000</td>\n",
       "      <td>-0.539355</td>\n",
       "      <td>0.235034</td>\n",
       "      <td>0.255085</td>\n",
       "    </tr>\n",
       "    <tr>\n",
       "      <th>slope</th>\n",
       "      <td>-0.151790</td>\n",
       "      <td>-0.066913</td>\n",
       "      <td>0.124755</td>\n",
       "      <td>-0.033806</td>\n",
       "      <td>0.014369</td>\n",
       "      <td>-0.074125</td>\n",
       "      <td>0.018522</td>\n",
       "      <td>0.323170</td>\n",
       "      <td>-0.284329</td>\n",
       "      <td>-0.539355</td>\n",
       "      <td>1.000000</td>\n",
       "      <td>-0.044287</td>\n",
       "      <td>-0.112275</td>\n",
       "    </tr>\n",
       "    <tr>\n",
       "      <th>ca</th>\n",
       "      <td>0.330450</td>\n",
       "      <td>0.169985</td>\n",
       "      <td>-0.167850</td>\n",
       "      <td>0.058233</td>\n",
       "      <td>0.057201</td>\n",
       "      <td>0.084714</td>\n",
       "      <td>-0.082971</td>\n",
       "      <td>-0.260242</td>\n",
       "      <td>0.110556</td>\n",
       "      <td>0.235034</td>\n",
       "      <td>-0.044287</td>\n",
       "      <td>1.000000</td>\n",
       "      <td>0.098418</td>\n",
       "    </tr>\n",
       "    <tr>\n",
       "      <th>thal</th>\n",
       "      <td>0.081448</td>\n",
       "      <td>0.225652</td>\n",
       "      <td>-0.199712</td>\n",
       "      <td>0.028320</td>\n",
       "      <td>0.060382</td>\n",
       "      <td>-0.042658</td>\n",
       "      <td>0.038891</td>\n",
       "      <td>-0.110076</td>\n",
       "      <td>0.236343</td>\n",
       "      <td>0.255085</td>\n",
       "      <td>-0.112275</td>\n",
       "      <td>0.098418</td>\n",
       "      <td>1.000000</td>\n",
       "    </tr>\n",
       "  </tbody>\n",
       "</table>\n",
       "</div>"
      ],
      "text/plain": [
       "               age       sex        cp  trestbps      chol       fbs  \\\n",
       "age       1.000000 -0.076955 -0.127758  0.288078  0.247557  0.121209   \n",
       "sex      -0.076955  1.000000 -0.057577 -0.110884 -0.212008  0.034951   \n",
       "cp       -0.127758 -0.057577  1.000000  0.025663 -0.072715  0.186225   \n",
       "trestbps  0.288078 -0.110884  0.025663  1.000000  0.146431  0.226035   \n",
       "chol      0.247557 -0.212008 -0.072715  0.146431  1.000000  0.051839   \n",
       "fbs       0.121209  0.034951  0.186225  0.226035  0.051839  1.000000   \n",
       "restecg  -0.165419 -0.074695 -0.031449 -0.065109 -0.118689 -0.098113   \n",
       "thalach  -0.404615 -0.038822  0.317051 -0.032537  0.009340 -0.013058   \n",
       "exang     0.161146  0.151385 -0.390310  0.071371  0.039480 -0.020018   \n",
       "oldpeak   0.204483  0.176680 -0.165942  0.103757  0.122876 -0.002365   \n",
       "slope    -0.151790 -0.066913  0.124755 -0.033806  0.014369 -0.074125   \n",
       "ca        0.330450  0.169985 -0.167850  0.058233  0.057201  0.084714   \n",
       "thal      0.081448  0.225652 -0.199712  0.028320  0.060382 -0.042658   \n",
       "\n",
       "           restecg   thalach     exang   oldpeak     slope        ca      thal  \n",
       "age      -0.165419 -0.404615  0.161146  0.204483 -0.151790  0.330450  0.081448  \n",
       "sex      -0.074695 -0.038822  0.151385  0.176680 -0.066913  0.169985  0.225652  \n",
       "cp       -0.031449  0.317051 -0.390310 -0.165942  0.124755 -0.167850 -0.199712  \n",
       "trestbps -0.065109 -0.032537  0.071371  0.103757 -0.033806  0.058233  0.028320  \n",
       "chol     -0.118689  0.009340  0.039480  0.122876  0.014369  0.057201  0.060382  \n",
       "fbs      -0.098113 -0.013058 -0.020018 -0.002365 -0.074125  0.084714 -0.042658  \n",
       "restecg   1.000000  0.019833  0.002176  0.012953  0.018522 -0.082971  0.038891  \n",
       "thalach   0.019833  1.000000 -0.403342 -0.332174  0.323170 -0.260242 -0.110076  \n",
       "exang     0.002176 -0.403342  1.000000  0.326970 -0.284329  0.110556  0.236343  \n",
       "oldpeak   0.012953 -0.332174  0.326970  1.000000 -0.539355  0.235034  0.255085  \n",
       "slope     0.018522  0.323170 -0.284329 -0.539355  1.000000 -0.044287 -0.112275  \n",
       "ca       -0.082971 -0.260242  0.110556  0.235034 -0.044287  1.000000  0.098418  \n",
       "thal      0.038891 -0.110076  0.236343  0.255085 -0.112275  0.098418  1.000000  "
      ]
     },
     "execution_count": 12,
     "metadata": {},
     "output_type": "execute_result"
    }
   ],
   "source": [
    "x_train.corr()"
   ]
  },
  {
   "cell_type": "code",
   "execution_count": 13,
   "id": "ee772c24-64b7-468e-9529-4b91a230903a",
   "metadata": {},
   "outputs": [],
   "source": [
    "def correlation(df,threshold):\n",
    "    col_name = set()\n",
    "    corr_matrix = df.corr()\n",
    "    for i in range(len(corr_matrix.columns)):\n",
    "        for j in range(i):\n",
    "            if abs(corr_matrix.iloc[i,j]>threshold):\n",
    "                colname = corr_matrix.columns[i]\n",
    "                col_name.add(colname)\n",
    "    return col_name                                                                                                                                                                                \n",
    "                "
   ]
  },
  {
   "cell_type": "code",
   "execution_count": 14,
   "id": "88bce8c4-e895-48b1-a916-7e12876111bc",
   "metadata": {},
   "outputs": [
    {
     "data": {
      "text/plain": [
       "set()"
      ]
     },
     "execution_count": 14,
     "metadata": {},
     "output_type": "execute_result"
    }
   ],
   "source": [
    "correlation(x_train,0.50)"
   ]
  },
  {
   "cell_type": "code",
   "execution_count": 15,
   "id": "a865b097-2453-416f-9020-ef2f4a800b6b",
   "metadata": {},
   "outputs": [],
   "source": [
    "# so there is no multicollinearity in x_train"
   ]
  },
  {
   "cell_type": "code",
   "execution_count": 16,
   "id": "99ac2192-159a-42dc-9f5c-050036c86b52",
   "metadata": {},
   "outputs": [],
   "source": [
    "from sklearn.ensemble import RandomForestClassifier"
   ]
  },
  {
   "cell_type": "code",
   "execution_count": 17,
   "id": "2c9dfd1e-1a1a-4dae-8c9e-db176012e2bc",
   "metadata": {},
   "outputs": [],
   "source": [
    "rand_forest = RandomForestClassifier()"
   ]
  },
  {
   "cell_type": "code",
   "execution_count": 18,
   "id": "6010447d-c7e6-4ed9-97d7-22c2bc504373",
   "metadata": {},
   "outputs": [
    {
     "data": {
      "text/html": [
       "<style>#sk-container-id-1 {color: black;background-color: white;}#sk-container-id-1 pre{padding: 0;}#sk-container-id-1 div.sk-toggleable {background-color: white;}#sk-container-id-1 label.sk-toggleable__label {cursor: pointer;display: block;width: 100%;margin-bottom: 0;padding: 0.3em;box-sizing: border-box;text-align: center;}#sk-container-id-1 label.sk-toggleable__label-arrow:before {content: \"▸\";float: left;margin-right: 0.25em;color: #696969;}#sk-container-id-1 label.sk-toggleable__label-arrow:hover:before {color: black;}#sk-container-id-1 div.sk-estimator:hover label.sk-toggleable__label-arrow:before {color: black;}#sk-container-id-1 div.sk-toggleable__content {max-height: 0;max-width: 0;overflow: hidden;text-align: left;background-color: #f0f8ff;}#sk-container-id-1 div.sk-toggleable__content pre {margin: 0.2em;color: black;border-radius: 0.25em;background-color: #f0f8ff;}#sk-container-id-1 input.sk-toggleable__control:checked~div.sk-toggleable__content {max-height: 200px;max-width: 100%;overflow: auto;}#sk-container-id-1 input.sk-toggleable__control:checked~label.sk-toggleable__label-arrow:before {content: \"▾\";}#sk-container-id-1 div.sk-estimator input.sk-toggleable__control:checked~label.sk-toggleable__label {background-color: #d4ebff;}#sk-container-id-1 div.sk-label input.sk-toggleable__control:checked~label.sk-toggleable__label {background-color: #d4ebff;}#sk-container-id-1 input.sk-hidden--visually {border: 0;clip: rect(1px 1px 1px 1px);clip: rect(1px, 1px, 1px, 1px);height: 1px;margin: -1px;overflow: hidden;padding: 0;position: absolute;width: 1px;}#sk-container-id-1 div.sk-estimator {font-family: monospace;background-color: #f0f8ff;border: 1px dotted black;border-radius: 0.25em;box-sizing: border-box;margin-bottom: 0.5em;}#sk-container-id-1 div.sk-estimator:hover {background-color: #d4ebff;}#sk-container-id-1 div.sk-parallel-item::after {content: \"\";width: 100%;border-bottom: 1px solid gray;flex-grow: 1;}#sk-container-id-1 div.sk-label:hover label.sk-toggleable__label {background-color: #d4ebff;}#sk-container-id-1 div.sk-serial::before {content: \"\";position: absolute;border-left: 1px solid gray;box-sizing: border-box;top: 0;bottom: 0;left: 50%;z-index: 0;}#sk-container-id-1 div.sk-serial {display: flex;flex-direction: column;align-items: center;background-color: white;padding-right: 0.2em;padding-left: 0.2em;position: relative;}#sk-container-id-1 div.sk-item {position: relative;z-index: 1;}#sk-container-id-1 div.sk-parallel {display: flex;align-items: stretch;justify-content: center;background-color: white;position: relative;}#sk-container-id-1 div.sk-item::before, #sk-container-id-1 div.sk-parallel-item::before {content: \"\";position: absolute;border-left: 1px solid gray;box-sizing: border-box;top: 0;bottom: 0;left: 50%;z-index: -1;}#sk-container-id-1 div.sk-parallel-item {display: flex;flex-direction: column;z-index: 1;position: relative;background-color: white;}#sk-container-id-1 div.sk-parallel-item:first-child::after {align-self: flex-end;width: 50%;}#sk-container-id-1 div.sk-parallel-item:last-child::after {align-self: flex-start;width: 50%;}#sk-container-id-1 div.sk-parallel-item:only-child::after {width: 0;}#sk-container-id-1 div.sk-dashed-wrapped {border: 1px dashed gray;margin: 0 0.4em 0.5em 0.4em;box-sizing: border-box;padding-bottom: 0.4em;background-color: white;}#sk-container-id-1 div.sk-label label {font-family: monospace;font-weight: bold;display: inline-block;line-height: 1.2em;}#sk-container-id-1 div.sk-label-container {text-align: center;}#sk-container-id-1 div.sk-container {/* jupyter's `normalize.less` sets `[hidden] { display: none; }` but bootstrap.min.css set `[hidden] { display: none !important; }` so we also need the `!important` here to be able to override the default hidden behavior on the sphinx rendered scikit-learn.org. See: https://github.com/scikit-learn/scikit-learn/issues/21755 */display: inline-block !important;position: relative;}#sk-container-id-1 div.sk-text-repr-fallback {display: none;}</style><div id=\"sk-container-id-1\" class=\"sk-top-container\"><div class=\"sk-text-repr-fallback\"><pre>RandomForestClassifier()</pre><b>In a Jupyter environment, please rerun this cell to show the HTML representation or trust the notebook. <br />On GitHub, the HTML representation is unable to render, please try loading this page with nbviewer.org.</b></div><div class=\"sk-container\" hidden><div class=\"sk-item\"><div class=\"sk-estimator sk-toggleable\"><input class=\"sk-toggleable__control sk-hidden--visually\" id=\"sk-estimator-id-1\" type=\"checkbox\" checked><label for=\"sk-estimator-id-1\" class=\"sk-toggleable__label sk-toggleable__label-arrow\">RandomForestClassifier</label><div class=\"sk-toggleable__content\"><pre>RandomForestClassifier()</pre></div></div></div></div></div>"
      ],
      "text/plain": [
       "RandomForestClassifier()"
      ]
     },
     "execution_count": 18,
     "metadata": {},
     "output_type": "execute_result"
    }
   ],
   "source": [
    "rand_forest.fit(x_train,y_train)"
   ]
  },
  {
   "cell_type": "code",
   "execution_count": 19,
   "id": "eb55c6dd-22de-4307-a9ec-8aedfe3f22b1",
   "metadata": {},
   "outputs": [],
   "source": [
    "y_pred = rand_forest.predict(x_test)"
   ]
  },
  {
   "cell_type": "code",
   "execution_count": 20,
   "id": "47efddec-ccfe-482f-852a-60f204b5cfde",
   "metadata": {},
   "outputs": [],
   "source": [
    "from sklearn.metrics import accuracy_score,classification_report"
   ]
  },
  {
   "cell_type": "code",
   "execution_count": 21,
   "id": "53eeaaef-64a5-4e9d-bb30-00cf329ea40d",
   "metadata": {},
   "outputs": [
    {
     "name": "stdout",
     "output_type": "stream",
     "text": [
      "0.8021978021978022\n",
      "              precision    recall  f1-score   support\n",
      "\n",
      "           0       0.78      0.78      0.78        41\n",
      "           1       0.82      0.82      0.82        50\n",
      "\n",
      "    accuracy                           0.80        91\n",
      "   macro avg       0.80      0.80      0.80        91\n",
      "weighted avg       0.80      0.80      0.80        91\n",
      "\n"
     ]
    }
   ],
   "source": [
    "print(accuracy_score(y_test,y_pred))\n",
    "print(classification_report(y_test,y_pred))"
   ]
  },
  {
   "cell_type": "code",
   "execution_count": 22,
   "id": "78b8ff77-d36d-4731-b382-e6ba8ce95160",
   "metadata": {},
   "outputs": [],
   "source": [
    "importance_scores = rand_forest.feature_importances_"
   ]
  },
  {
   "cell_type": "code",
   "execution_count": 23,
   "id": "35633cac-3ae0-4174-998e-7f662ffabd11",
   "metadata": {},
   "outputs": [
    {
     "name": "stdout",
     "output_type": "stream",
     "text": [
      "[0.01267126 0.02010348 0.03143838 0.0671125  0.06823768 0.07115687\n",
      " 0.07765995 0.08980671 0.09689972 0.10148515 0.10628175 0.10639897\n",
      " 0.15074758]\n"
     ]
    }
   ],
   "source": [
    "importance_scores.sort()\n",
    "print(importance_scores)"
   ]
  },
  {
   "cell_type": "code",
   "execution_count": 24,
   "id": "5f198aa3-8556-4512-8c77-183b5c9b62f7",
   "metadata": {},
   "outputs": [],
   "source": [
    "df2 = pd.DataFrame({\n",
    "    'Feature' : x.columns,\n",
    "    'scores' : importance_scores\n",
    "})"
   ]
  },
  {
   "cell_type": "code",
   "execution_count": 25,
   "id": "b284fa0d-12c0-47c2-9bfc-8c7ee3f5677e",
   "metadata": {},
   "outputs": [
    {
     "data": {
      "text/html": [
       "<div>\n",
       "<style scoped>\n",
       "    .dataframe tbody tr th:only-of-type {\n",
       "        vertical-align: middle;\n",
       "    }\n",
       "\n",
       "    .dataframe tbody tr th {\n",
       "        vertical-align: top;\n",
       "    }\n",
       "\n",
       "    .dataframe thead th {\n",
       "        text-align: right;\n",
       "    }\n",
       "</style>\n",
       "<table border=\"1\" class=\"dataframe\">\n",
       "  <thead>\n",
       "    <tr style=\"text-align: right;\">\n",
       "      <th></th>\n",
       "      <th>Feature</th>\n",
       "      <th>scores</th>\n",
       "    </tr>\n",
       "  </thead>\n",
       "  <tbody>\n",
       "    <tr>\n",
       "      <th>8</th>\n",
       "      <td>exang</td>\n",
       "      <td>0.096900</td>\n",
       "    </tr>\n",
       "    <tr>\n",
       "      <th>9</th>\n",
       "      <td>oldpeak</td>\n",
       "      <td>0.101485</td>\n",
       "    </tr>\n",
       "    <tr>\n",
       "      <th>10</th>\n",
       "      <td>slope</td>\n",
       "      <td>0.106282</td>\n",
       "    </tr>\n",
       "    <tr>\n",
       "      <th>11</th>\n",
       "      <td>ca</td>\n",
       "      <td>0.106399</td>\n",
       "    </tr>\n",
       "    <tr>\n",
       "      <th>12</th>\n",
       "      <td>thal</td>\n",
       "      <td>0.150748</td>\n",
       "    </tr>\n",
       "  </tbody>\n",
       "</table>\n",
       "</div>"
      ],
      "text/plain": [
       "    Feature    scores\n",
       "8     exang  0.096900\n",
       "9   oldpeak  0.101485\n",
       "10    slope  0.106282\n",
       "11       ca  0.106399\n",
       "12     thal  0.150748"
      ]
     },
     "execution_count": 25,
     "metadata": {},
     "output_type": "execute_result"
    }
   ],
   "source": [
    "df2.tail(5)"
   ]
  },
  {
   "cell_type": "code",
   "execution_count": 26,
   "id": "1df337c0-99ca-46e6-9032-a7a1e5538b9b",
   "metadata": {},
   "outputs": [
    {
     "data": {
      "text/plain": [
       "<AxesSubplot: xlabel='Feature', ylabel='scores'>"
      ]
     },
     "execution_count": 26,
     "metadata": {},
     "output_type": "execute_result"
    },
    {
     "data": {
      "image/png": "[encoded data removed]",
      "text/plain": [
       "<Figure size 1000x1500 with 1 Axes>"
      ]
     },
     "metadata": {},
     "output_type": "display_data"
    }
   ],
   "source": [
    "fig = plt.figure(figsize=(10,15))\n",
    "sns.barplot(data=df2,x=df2.Feature,y=df2.scores)"
   ]
  },
  {
   "cell_type": "code",
   "execution_count": 27,
   "id": "c658e67d-3b1b-4ab1-a01c-81f562b2fbd0",
   "metadata": {},
   "outputs": [],
   "source": [
    "from sklearn.model_selection import GridSearchCV"
   ]
  },
  {
   "cell_type": "code",
   "execution_count": 28,
   "id": "aca546e6-667f-47b4-930a-606774a2469d",
   "metadata": {},
   "outputs": [],
   "source": [
    "parameter = {\n",
    "    'criterion' :['gini' , 'entropy'],\n",
    "    'max_depth' : [3,5,10,None],\n",
    "    'min_samples_split' : [2],\n",
    "    'n_estimators':[100,200,300]\n",
    "}\n",
    "    "
   ]
  },
  {
   "cell_type": "code",
   "execution_count": 29,
   "id": "10fac912-d1d0-4f79-a626-9594f95c2571",
   "metadata": {},
   "outputs": [],
   "source": [
    "clf = GridSearchCV(rand_forest,param_grid=parameter,cv=5,verbose=3,scoring='accuracy')"
   ]
  },
  {
   "cell_type": "code",
   "execution_count": 30,
   "id": "4cdb6d98-da66-4714-bf71-f9895c72c57c",
   "metadata": {},
   "outputs": [
    {
     "name": "stdout",
     "output_type": "stream",
     "text": [
      "Fitting 5 folds for each of 24 candidates, totalling 120 fits\n",
      "[CV 1/5] END criterion=gini, max_depth=3, min_samples_split=2, n_estimators=100;, score=0.884 total time=   0.2s\n",
      "[CV 2/5] END criterion=gini, max_depth=3, min_samples_split=2, n_estimators=100;, score=0.860 total time=   0.2s\n",
      "[CV 3/5] END criterion=gini, max_depth=3, min_samples_split=2, n_estimators=100;, score=0.738 total time=   0.2s\n",
      "[CV 4/5] END criterion=gini, max_depth=3, min_samples_split=2, n_estimators=100;, score=0.905 total time=   0.2s\n",
      "[CV 5/5] END criterion=gini, max_depth=3, min_samples_split=2, n_estimators=100;, score=0.762 total time=   0.2s\n",
      "[CV 1/5] END criterion=gini, max_depth=3, min_samples_split=2, n_estimators=200;, score=0.860 total time=   0.3s\n",
      "[CV 2/5] END criterion=gini, max_depth=3, min_samples_split=2, n_estimators=200;, score=0.860 total time=   0.3s\n",
      "[CV 3/5] END criterion=gini, max_depth=3, min_samples_split=2, n_estimators=200;, score=0.738 total time=   0.4s\n",
      "[CV 4/5] END criterion=gini, max_depth=3, min_samples_split=2, n_estimators=200;, score=0.905 total time=   0.3s\n",
      "[CV 5/5] END criterion=gini, max_depth=3, min_samples_split=2, n_estimators=200;, score=0.762 total time=   0.3s\n",
      "[CV 1/5] END criterion=gini, max_depth=3, min_samples_split=2, n_estimators=300;, score=0.884 total time=   0.5s\n",
      "[CV 2/5] END criterion=gini, max_depth=3, min_samples_split=2, n_estimators=300;, score=0.860 total time=   0.5s\n",
      "[CV 3/5] END criterion=gini, max_depth=3, min_samples_split=2, n_estimators=300;, score=0.738 total time=   0.5s\n",
      "[CV 4/5] END criterion=gini, max_depth=3, min_samples_split=2, n_estimators=300;, score=0.905 total time=   0.5s\n",
      "[CV 5/5] END criterion=gini, max_depth=3, min_samples_split=2, n_estimators=300;, score=0.762 total time=   0.5s\n",
      "[CV 1/5] END criterion=gini, max_depth=5, min_samples_split=2, n_estimators=100;, score=0.907 total time=   0.2s\n",
      "[CV 2/5] END criterion=gini, max_depth=5, min_samples_split=2, n_estimators=100;, score=0.837 total time=   0.2s\n",
      "[CV 3/5] END criterion=gini, max_depth=5, min_samples_split=2, n_estimators=100;, score=0.738 total time=   0.2s\n",
      "[CV 4/5] END criterion=gini, max_depth=5, min_samples_split=2, n_estimators=100;, score=0.833 total time=   0.2s\n",
      "[CV 5/5] END criterion=gini, max_depth=5, min_samples_split=2, n_estimators=100;, score=0.738 total time=   0.2s\n",
      "[CV 1/5] END criterion=gini, max_depth=5, min_samples_split=2, n_estimators=200;, score=0.884 total time=   0.4s\n",
      "[CV 2/5] END criterion=gini, max_depth=5, min_samples_split=2, n_estimators=200;, score=0.860 total time=   0.4s\n",
      "[CV 3/5] END criterion=gini, max_depth=5, min_samples_split=2, n_estimators=200;, score=0.762 total time=   0.3s\n",
      "[CV 4/5] END criterion=gini, max_depth=5, min_samples_split=2, n_estimators=200;, score=0.905 total time=   0.3s\n",
      "[CV 5/5] END criterion=gini, max_depth=5, min_samples_split=2, n_estimators=200;, score=0.762 total time=   0.4s\n",
      "[CV 1/5] END criterion=gini, max_depth=5, min_samples_split=2, n_estimators=300;, score=0.884 total time=   0.6s\n",
      "[CV 2/5] END criterion=gini, max_depth=5, min_samples_split=2, n_estimators=300;, score=0.837 total time=   0.5s\n",
      "[CV 3/5] END criterion=gini, max_depth=5, min_samples_split=2, n_estimators=300;, score=0.690 total time=   0.5s\n",
      "[CV 4/5] END criterion=gini, max_depth=5, min_samples_split=2, n_estimators=300;, score=0.905 total time=   0.5s\n",
      "[CV 5/5] END criterion=gini, max_depth=5, min_samples_split=2, n_estimators=300;, score=0.738 total time=   0.5s\n",
      "[CV 1/5] END criterion=gini, max_depth=10, min_samples_split=2, n_estimators=100;, score=0.860 total time=   0.2s\n",
      "[CV 2/5] END criterion=gini, max_depth=10, min_samples_split=2, n_estimators=100;, score=0.837 total time=   0.2s\n",
      "[CV 3/5] END criterion=gini, max_depth=10, min_samples_split=2, n_estimators=100;, score=0.762 total time=   0.2s\n",
      "[CV 4/5] END criterion=gini, max_depth=10, min_samples_split=2, n_estimators=100;, score=0.881 total time=   0.2s\n",
      "[CV 5/5] END criterion=gini, max_depth=10, min_samples_split=2, n_estimators=100;, score=0.738 total time=   0.2s\n",
      "[CV 1/5] END criterion=gini, max_depth=10, min_samples_split=2, n_estimators=200;, score=0.860 total time=   0.4s\n",
      "[CV 2/5] END criterion=gini, max_depth=10, min_samples_split=2, n_estimators=200;, score=0.814 total time=   0.3s\n",
      "[CV 3/5] END criterion=gini, max_depth=10, min_samples_split=2, n_estimators=200;, score=0.738 total time=   0.4s\n",
      "[CV 4/5] END criterion=gini, max_depth=10, min_samples_split=2, n_estimators=200;, score=0.881 total time=   0.4s\n",
      "[CV 5/5] END criterion=gini, max_depth=10, min_samples_split=2, n_estimators=200;, score=0.762 total time=   0.4s\n",
      "[CV 1/5] END criterion=gini, max_depth=10, min_samples_split=2, n_estimators=300;, score=0.860 total time=   0.5s\n",
      "[CV 2/5] END criterion=gini, max_depth=10, min_samples_split=2, n_estimators=300;, score=0.814 total time=   0.5s\n",
      "[CV 3/5] END criterion=gini, max_depth=10, min_samples_split=2, n_estimators=300;, score=0.738 total time=   0.5s\n",
      "[CV 4/5] END criterion=gini, max_depth=10, min_samples_split=2, n_estimators=300;, score=0.905 total time=   0.5s\n",
      "[CV 5/5] END criterion=gini, max_depth=10, min_samples_split=2, n_estimators=300;, score=0.762 total time=   0.5s\n",
      "[CV 1/5] END criterion=gini, max_depth=None, min_samples_split=2, n_estimators=100;, score=0.814 total time=   0.2s\n",
      "[CV 2/5] END criterion=gini, max_depth=None, min_samples_split=2, n_estimators=100;, score=0.837 total time=   0.2s\n",
      "[CV 3/5] END criterion=gini, max_depth=None, min_samples_split=2, n_estimators=100;, score=0.762 total time=   0.2s\n",
      "[CV 4/5] END criterion=gini, max_depth=None, min_samples_split=2, n_estimators=100;, score=0.857 total time=   0.2s\n",
      "[CV 5/5] END criterion=gini, max_depth=None, min_samples_split=2, n_estimators=100;, score=0.738 total time=   0.2s\n",
      "[CV 1/5] END criterion=gini, max_depth=None, min_samples_split=2, n_estimators=200;, score=0.860 total time=   0.4s\n",
      "[CV 2/5] END criterion=gini, max_depth=None, min_samples_split=2, n_estimators=200;, score=0.837 total time=   0.4s\n",
      "[CV 3/5] END criterion=gini, max_depth=None, min_samples_split=2, n_estimators=200;, score=0.762 total time=   0.4s\n",
      "[CV 4/5] END criterion=gini, max_depth=None, min_samples_split=2, n_estimators=200;, score=0.833 total time=   0.4s\n",
      "[CV 5/5] END criterion=gini, max_depth=None, min_samples_split=2, n_estimators=200;, score=0.738 total time=   0.4s\n",
      "[CV 1/5] END criterion=gini, max_depth=None, min_samples_split=2, n_estimators=300;, score=0.837 total time=   0.5s\n",
      "[CV 2/5] END criterion=gini, max_depth=None, min_samples_split=2, n_estimators=300;, score=0.860 total time=   0.6s\n",
      "[CV 3/5] END criterion=gini, max_depth=None, min_samples_split=2, n_estimators=300;, score=0.690 total time=   0.6s\n",
      "[CV 4/5] END criterion=gini, max_depth=None, min_samples_split=2, n_estimators=300;, score=0.857 total time=   0.5s\n",
      "[CV 5/5] END criterion=gini, max_depth=None, min_samples_split=2, n_estimators=300;, score=0.762 total time=   0.5s\n",
      "[CV 1/5] END criterion=entropy, max_depth=3, min_samples_split=2, n_estimators=100;, score=0.884 total time=   0.2s\n",
      "[CV 2/5] END criterion=entropy, max_depth=3, min_samples_split=2, n_estimators=100;, score=0.860 total time=   0.2s\n",
      "[CV 3/5] END criterion=entropy, max_depth=3, min_samples_split=2, n_estimators=100;, score=0.714 total time=   0.2s\n",
      "[CV 4/5] END criterion=entropy, max_depth=3, min_samples_split=2, n_estimators=100;, score=0.905 total time=   0.2s\n",
      "[CV 5/5] END criterion=entropy, max_depth=3, min_samples_split=2, n_estimators=100;, score=0.738 total time=   0.2s\n",
      "[CV 1/5] END criterion=entropy, max_depth=3, min_samples_split=2, n_estimators=200;, score=0.884 total time=   0.3s\n",
      "[CV 2/5] END criterion=entropy, max_depth=3, min_samples_split=2, n_estimators=200;, score=0.860 total time=   0.3s\n",
      "[CV 3/5] END criterion=entropy, max_depth=3, min_samples_split=2, n_estimators=200;, score=0.762 total time=   0.3s\n",
      "[CV 4/5] END criterion=entropy, max_depth=3, min_samples_split=2, n_estimators=200;, score=0.905 total time=   0.3s\n",
      "[CV 5/5] END criterion=entropy, max_depth=3, min_samples_split=2, n_estimators=200;, score=0.762 total time=   0.3s\n",
      "[CV 1/5] END criterion=entropy, max_depth=3, min_samples_split=2, n_estimators=300;, score=0.860 total time=   0.5s\n",
      "[CV 2/5] END criterion=entropy, max_depth=3, min_samples_split=2, n_estimators=300;, score=0.860 total time=   0.5s\n",
      "[CV 3/5] END criterion=entropy, max_depth=3, min_samples_split=2, n_estimators=300;, score=0.738 total time=   0.5s\n",
      "[CV 4/5] END criterion=entropy, max_depth=3, min_samples_split=2, n_estimators=300;, score=0.905 total time=   0.5s\n",
      "[CV 5/5] END criterion=entropy, max_depth=3, min_samples_split=2, n_estimators=300;, score=0.762 total time=   0.5s\n",
      "[CV 1/5] END criterion=entropy, max_depth=5, min_samples_split=2, n_estimators=100;, score=0.860 total time=   0.2s\n",
      "[CV 2/5] END criterion=entropy, max_depth=5, min_samples_split=2, n_estimators=100;, score=0.860 total time=   0.2s\n",
      "[CV 3/5] END criterion=entropy, max_depth=5, min_samples_split=2, n_estimators=100;, score=0.738 total time=   0.2s\n",
      "[CV 4/5] END criterion=entropy, max_depth=5, min_samples_split=2, n_estimators=100;, score=0.881 total time=   0.2s\n",
      "[CV 5/5] END criterion=entropy, max_depth=5, min_samples_split=2, n_estimators=100;, score=0.762 total time=   0.2s\n",
      "[CV 1/5] END criterion=entropy, max_depth=5, min_samples_split=2, n_estimators=200;, score=0.860 total time=   0.4s\n",
      "[CV 2/5] END criterion=entropy, max_depth=5, min_samples_split=2, n_estimators=200;, score=0.860 total time=   0.3s\n",
      "[CV 3/5] END criterion=entropy, max_depth=5, min_samples_split=2, n_estimators=200;, score=0.690 total time=   0.3s\n",
      "[CV 4/5] END criterion=entropy, max_depth=5, min_samples_split=2, n_estimators=200;, score=0.881 total time=   0.4s\n",
      "[CV 5/5] END criterion=entropy, max_depth=5, min_samples_split=2, n_estimators=200;, score=0.762 total time=   0.3s\n",
      "[CV 1/5] END criterion=entropy, max_depth=5, min_samples_split=2, n_estimators=300;, score=0.884 total time=   0.5s\n",
      "[CV 2/5] END criterion=entropy, max_depth=5, min_samples_split=2, n_estimators=300;, score=0.837 total time=   0.5s\n",
      "[CV 3/5] END criterion=entropy, max_depth=5, min_samples_split=2, n_estimators=300;, score=0.690 total time=   0.5s\n",
      "[CV 4/5] END criterion=entropy, max_depth=5, min_samples_split=2, n_estimators=300;, score=0.905 total time=   0.5s\n",
      "[CV 5/5] END criterion=entropy, max_depth=5, min_samples_split=2, n_estimators=300;, score=0.738 total time=   0.5s\n",
      "[CV 1/5] END criterion=entropy, max_depth=10, min_samples_split=2, n_estimators=100;, score=0.814 total time=   0.2s\n",
      "[CV 2/5] END criterion=entropy, max_depth=10, min_samples_split=2, n_estimators=100;, score=0.860 total time=   0.2s\n",
      "[CV 3/5] END criterion=entropy, max_depth=10, min_samples_split=2, n_estimators=100;, score=0.690 total time=   0.2s\n",
      "[CV 4/5] END criterion=entropy, max_depth=10, min_samples_split=2, n_estimators=100;, score=0.857 total time=   0.2s\n",
      "[CV 5/5] END criterion=entropy, max_depth=10, min_samples_split=2, n_estimators=100;, score=0.810 total time=   0.2s\n",
      "[CV 1/5] END criterion=entropy, max_depth=10, min_samples_split=2, n_estimators=200;, score=0.837 total time=   0.4s\n",
      "[CV 2/5] END criterion=entropy, max_depth=10, min_samples_split=2, n_estimators=200;, score=0.860 total time=   0.4s\n",
      "[CV 3/5] END criterion=entropy, max_depth=10, min_samples_split=2, n_estimators=200;, score=0.714 total time=   0.4s\n",
      "[CV 4/5] END criterion=entropy, max_depth=10, min_samples_split=2, n_estimators=200;, score=0.905 total time=   0.4s\n",
      "[CV 5/5] END criterion=entropy, max_depth=10, min_samples_split=2, n_estimators=200;, score=0.738 total time=   0.4s\n",
      "[CV 1/5] END criterion=entropy, max_depth=10, min_samples_split=2, n_estimators=300;, score=0.860 total time=   0.5s\n",
      "[CV 2/5] END criterion=entropy, max_depth=10, min_samples_split=2, n_estimators=300;, score=0.837 total time=   0.5s\n",
      "[CV 3/5] END criterion=entropy, max_depth=10, min_samples_split=2, n_estimators=300;, score=0.714 total time=   0.5s\n",
      "[CV 4/5] END criterion=entropy, max_depth=10, min_samples_split=2, n_estimators=300;, score=0.905 total time=   0.6s\n",
      "[CV 5/5] END criterion=entropy, max_depth=10, min_samples_split=2, n_estimators=300;, score=0.762 total time=   0.5s\n",
      "[CV 1/5] END criterion=entropy, max_depth=None, min_samples_split=2, n_estimators=100;, score=0.860 total time=   0.2s\n",
      "[CV 2/5] END criterion=entropy, max_depth=None, min_samples_split=2, n_estimators=100;, score=0.814 total time=   0.2s\n",
      "[CV 3/5] END criterion=entropy, max_depth=None, min_samples_split=2, n_estimators=100;, score=0.738 total time=   0.2s\n",
      "[CV 4/5] END criterion=entropy, max_depth=None, min_samples_split=2, n_estimators=100;, score=0.857 total time=   0.2s\n",
      "[CV 5/5] END criterion=entropy, max_depth=None, min_samples_split=2, n_estimators=100;, score=0.762 total time=   0.2s\n",
      "[CV 1/5] END criterion=entropy, max_depth=None, min_samples_split=2, n_estimators=200;, score=0.884 total time=   0.4s\n",
      "[CV 2/5] END criterion=entropy, max_depth=None, min_samples_split=2, n_estimators=200;, score=0.837 total time=   0.4s\n",
      "[CV 3/5] END criterion=entropy, max_depth=None, min_samples_split=2, n_estimators=200;, score=0.714 total time=   0.4s\n",
      "[CV 4/5] END criterion=entropy, max_depth=None, min_samples_split=2, n_estimators=200;, score=0.881 total time=   0.4s\n",
      "[CV 5/5] END criterion=entropy, max_depth=None, min_samples_split=2, n_estimators=200;, score=0.738 total time=   0.4s\n",
      "[CV 1/5] END criterion=entropy, max_depth=None, min_samples_split=2, n_estimators=300;, score=0.860 total time=   0.5s\n",
      "[CV 2/5] END criterion=entropy, max_depth=None, min_samples_split=2, n_estimators=300;, score=0.837 total time=   0.5s\n",
      "[CV 3/5] END criterion=entropy, max_depth=None, min_samples_split=2, n_estimators=300;, score=0.714 total time=   0.5s\n",
      "[CV 4/5] END criterion=entropy, max_depth=None, min_samples_split=2, n_estimators=300;, score=0.857 total time=   0.5s\n",
      "[CV 5/5] END criterion=entropy, max_depth=None, min_samples_split=2, n_estimators=300;, score=0.762 total time=   0.5s\n"
     ]
    },
    {
     "data": {
      "text/html": [
       "<style>#sk-container-id-2 {color: black;background-color: white;}#sk-container-id-2 pre{padding: 0;}#sk-container-id-2 div.sk-toggleable {background-color: white;}#sk-container-id-2 label.sk-toggleable__label {cursor: pointer;display: block;width: 100%;margin-bottom: 0;padding: 0.3em;box-sizing: border-box;text-align: center;}#sk-container-id-2 label.sk-toggleable__label-arrow:before {content: \"▸\";float: left;margin-right: 0.25em;color: #696969;}#sk-container-id-2 label.sk-toggleable__label-arrow:hover:before {color: black;}#sk-container-id-2 div.sk-estimator:hover label.sk-toggleable__label-arrow:before {color: black;}#sk-container-id-2 div.sk-toggleable__content {max-height: 0;max-width: 0;overflow: hidden;text-align: left;background-color: #f0f8ff;}#sk-container-id-2 div.sk-toggleable__content pre {margin: 0.2em;color: black;border-radius: 0.25em;background-color: #f0f8ff;}#sk-container-id-2 input.sk-toggleable__control:checked~div.sk-toggleable__content {max-height: 200px;max-width: 100%;overflow: auto;}#sk-container-id-2 input.sk-toggleable__control:checked~label.sk-toggleable__label-arrow:before {content: \"▾\";}#sk-container-id-2 div.sk-estimator input.sk-toggleable__control:checked~label.sk-toggleable__label {background-color: #d4ebff;}#sk-container-id-2 div.sk-label input.sk-toggleable__control:checked~label.sk-toggleable__label {background-color: #d4ebff;}#sk-container-id-2 input.sk-hidden--visually {border: 0;clip: rect(1px 1px 1px 1px);clip: rect(1px, 1px, 1px, 1px);height: 1px;margin: -1px;overflow: hidden;padding: 0;position: absolute;width: 1px;}#sk-container-id-2 div.sk-estimator {font-family: monospace;background-color: #f0f8ff;border: 1px dotted black;border-radius: 0.25em;box-sizing: border-box;margin-bottom: 0.5em;}#sk-container-id-2 div.sk-estimator:hover {background-color: #d4ebff;}#sk-container-id-2 div.sk-parallel-item::after {content: \"\";width: 100%;border-bottom: 1px solid gray;flex-grow: 1;}#sk-container-id-2 div.sk-label:hover label.sk-toggleable__label {background-color: #d4ebff;}#sk-container-id-2 div.sk-serial::before {content: \"\";position: absolute;border-left: 1px solid gray;box-sizing: border-box;top: 0;bottom: 0;left: 50%;z-index: 0;}#sk-container-id-2 div.sk-serial {display: flex;flex-direction: column;align-items: center;background-color: white;padding-right: 0.2em;padding-left: 0.2em;position: relative;}#sk-container-id-2 div.sk-item {position: relative;z-index: 1;}#sk-container-id-2 div.sk-parallel {display: flex;align-items: stretch;justify-content: center;background-color: white;position: relative;}#sk-container-id-2 div.sk-item::before, #sk-container-id-2 div.sk-parallel-item::before {content: \"\";position: absolute;border-left: 1px solid gray;box-sizing: border-box;top: 0;bottom: 0;left: 50%;z-index: -1;}#sk-container-id-2 div.sk-parallel-item {display: flex;flex-direction: column;z-index: 1;position: relative;background-color: white;}#sk-container-id-2 div.sk-parallel-item:first-child::after {align-self: flex-end;width: 50%;}#sk-container-id-2 div.sk-parallel-item:last-child::after {align-self: flex-start;width: 50%;}#sk-container-id-2 div.sk-parallel-item:only-child::after {width: 0;}#sk-container-id-2 div.sk-dashed-wrapped {border: 1px dashed gray;margin: 0 0.4em 0.5em 0.4em;box-sizing: border-box;padding-bottom: 0.4em;background-color: white;}#sk-container-id-2 div.sk-label label {font-family: monospace;font-weight: bold;display: inline-block;line-height: 1.2em;}#sk-container-id-2 div.sk-label-container {text-align: center;}#sk-container-id-2 div.sk-container {/* jupyter's `normalize.less` sets `[hidden] { display: none; }` but bootstrap.min.css set `[hidden] { display: none !important; }` so we also need the `!important` here to be able to override the default hidden behavior on the sphinx rendered scikit-learn.org. See: https://github.com/scikit-learn/scikit-learn/issues/21755 */display: inline-block !important;position: relative;}#sk-container-id-2 div.sk-text-repr-fallback {display: none;}</style><div id=\"sk-container-id-2\" class=\"sk-top-container\"><div class=\"sk-text-repr-fallback\"><pre>GridSearchCV(cv=5, estimator=RandomForestClassifier(),\n",
       "             param_grid={&#x27;criterion&#x27;: [&#x27;gini&#x27;, &#x27;entropy&#x27;],\n",
       "                         &#x27;max_depth&#x27;: [3, 5, 10, None],\n",
       "                         &#x27;min_samples_split&#x27;: [2],\n",
       "                         &#x27;n_estimators&#x27;: [100, 200, 300]},\n",
       "             scoring=&#x27;accuracy&#x27;, verbose=3)</pre><b>In a Jupyter environment, please rerun this cell to show the HTML representation or trust the notebook. <br />On GitHub, the HTML representation is unable to render, please try loading this page with nbviewer.org.</b></div><div class=\"sk-container\" hidden><div class=\"sk-item sk-dashed-wrapped\"><div class=\"sk-label-container\"><div class=\"sk-label sk-toggleable\"><input class=\"sk-toggleable__control sk-hidden--visually\" id=\"sk-estimator-id-2\" type=\"checkbox\" ><label for=\"sk-estimator-id-2\" class=\"sk-toggleable__label sk-toggleable__label-arrow\">GridSearchCV</label><div class=\"sk-toggleable__content\"><pre>GridSearchCV(cv=5, estimator=RandomForestClassifier(),\n",
       "             param_grid={&#x27;criterion&#x27;: [&#x27;gini&#x27;, &#x27;entropy&#x27;],\n",
       "                         &#x27;max_depth&#x27;: [3, 5, 10, None],\n",
       "                         &#x27;min_samples_split&#x27;: [2],\n",
       "                         &#x27;n_estimators&#x27;: [100, 200, 300]},\n",
       "             scoring=&#x27;accuracy&#x27;, verbose=3)</pre></div></div></div><div class=\"sk-parallel\"><div class=\"sk-parallel-item\"><div class=\"sk-item\"><div class=\"sk-label-container\"><div class=\"sk-label sk-toggleable\"><input class=\"sk-toggleable__control sk-hidden--visually\" id=\"sk-estimator-id-3\" type=\"checkbox\" ><label for=\"sk-estimator-id-3\" class=\"sk-toggleable__label sk-toggleable__label-arrow\">estimator: RandomForestClassifier</label><div class=\"sk-toggleable__content\"><pre>RandomForestClassifier()</pre></div></div></div><div class=\"sk-serial\"><div class=\"sk-item\"><div class=\"sk-estimator sk-toggleable\"><input class=\"sk-toggleable__control sk-hidden--visually\" id=\"sk-estimator-id-4\" type=\"checkbox\" ><label for=\"sk-estimator-id-4\" class=\"sk-toggleable__label sk-toggleable__label-arrow\">RandomForestClassifier</label><div class=\"sk-toggleable__content\"><pre>RandomForestClassifier()</pre></div></div></div></div></div></div></div></div></div></div>"
      ],
      "text/plain": [
       "GridSearchCV(cv=5, estimator=RandomForestClassifier(),\n",
       "             param_grid={'criterion': ['gini', 'entropy'],\n",
       "                         'max_depth': [3, 5, 10, None],\n",
       "                         'min_samples_split': [2],\n",
       "                         'n_estimators': [100, 200, 300]},\n",
       "             scoring='accuracy', verbose=3)"
      ]
     },
     "execution_count": 30,
     "metadata": {},
     "output_type": "execute_result"
    }
   ],
   "source": [
    "clf.fit(x_train,y_train)"
   ]
  },
  {
   "cell_type": "code",
   "execution_count": 31,
   "id": "9f1753c9-c887-452b-9019-2a3d04ef870e",
   "metadata": {},
   "outputs": [
    {
     "data": {
      "text/plain": [
       "{'criterion': 'gini',\n",
       " 'max_depth': 5,\n",
       " 'min_samples_split': 2,\n",
       " 'n_estimators': 200}"
      ]
     },
     "execution_count": 31,
     "metadata": {},
     "output_type": "execute_result"
    }
   ],
   "source": [
    "clf.best_params_"
   ]
  },
  {
   "cell_type": "code",
   "execution_count": 32,
   "id": "2331ea69-de8a-4e50-8cb5-749fb4eab71b",
   "metadata": {},
   "outputs": [],
   "source": [
    "ypred = clf.predict(x_test)"
   ]
  },
  {
   "cell_type": "code",
   "execution_count": 34,
   "id": "010b4188-a2d9-4729-9115-282f3d9a9402",
   "metadata": {},
   "outputs": [
    {
     "name": "stdout",
     "output_type": "stream",
     "text": [
      "0.8131868131868132\n",
      "              precision    recall  f1-score   support\n",
      "\n",
      "           0       0.80      0.78      0.79        41\n",
      "           1       0.82      0.84      0.83        50\n",
      "\n",
      "    accuracy                           0.81        91\n",
      "   macro avg       0.81      0.81      0.81        91\n",
      "weighted avg       0.81      0.81      0.81        91\n",
      "\n"
     ]
    }
   ],
   "source": [
    "print(accuracy_score(y_test,ypred))\n",
    "print(classification_report(y_test,ypred))"
   ]
  },
  {
   "cell_type": "code",
   "execution_count": 39,
   "id": "3562c954-f767-499e-bc19-eaee883ba6fb",
   "metadata": {},
   "outputs": [
    {
     "name": "stderr",
     "output_type": "stream",
     "text": [
      "/opt/conda/lib/python3.10/site-packages/sklearn/base.py:409: UserWarning: X does not have valid feature names, but RandomForestClassifier was fitted with feature names\n",
      "  warnings.warn(\n"
     ]
    },
    {
     "data": {
      "image/png": "[encoded data removed]",
      "text/plain": [
       "<Figure size 1000x600 with 2 Axes>"
      ]
     },
     "metadata": {},
     "output_type": "display_data"
    }
   ],
   "source": [
    "import numpy as np\n",
    "import matplotlib.pyplot as plt\n",
    "\n",
    "x1 = df[['thal', 'ca']]  \n",
    "y1 = df['target']  \n",
    "\n",
    "rand_forest.fit(x1, y1)\n",
    "\n",
    "feature1_range = np.linspace(x1['thal'].min() - 1, x1['thal'].max() + 1, 100)\n",
    "feature2_range = np.linspace(x1['ca'].min() - 1, x1['ca'].max() + 1, 100)\n",
    "\n",
    "feature1_grid, feature2_grid = np.meshgrid(feature1_range, feature2_range)\n",
    "\n",
    "X_grid = np.c_[feature1_grid.ravel(), feature2_grid.ravel()]\n",
    "\n",
    "predictions = rand_forest.predict(X_grid)\n",
    "\n",
    "predictions_grid = predictions.reshape(feature1_grid.shape)\n",
    "\n",
    "plt.figure(figsize=(10, 6))\n",
    "plt.contourf(feature1_grid, feature2_grid, predictions_grid, alpha=0.5)\n",
    "plt.scatter(x1['thal'], x1['ca'], c=y, cmap='bwr')\n",
    "plt.xlabel('thal')\n",
    "plt.ylabel('ca')\n",
    "plt.title('Decision Boundaries of Random Forest Classifier')\n",
    "plt.colorbar()\n",
    "plt.show()\n"
   ]
  },
  {
   "cell_type": "code",
   "execution_count": null,
   "id": "87bf66d0-1ddc-435d-852d-b64f4f234747",
   "metadata": {},
   "outputs": [],
   "source": []
  }
 ],
 "metadata": {
  "kernelspec": {
   "display_name": "Python 3 (ipykernel)",
   "language": "python",
   "name": "python3"
  },
  "language_info": {
   "codemirror_mode": {
    "name": "ipython",
    "version": 3
   },
   "file_extension": ".py",
   "mimetype": "text/x-python",
   "name": "python",
   "nbconvert_exporter": "python",
   "pygments_lexer": "ipython3",
   "version": "3.10.8"
  }
 },
 "nbformat": 4,
 "nbformat_minor": 5
}
